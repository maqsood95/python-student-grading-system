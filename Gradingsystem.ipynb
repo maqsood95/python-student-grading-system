{
 "cells": [
  {
   "cell_type": "markdown",
   "id": "6ed2afd7-7d8c-4d90-b7d2-4b2f3d9f8bc7",
   "metadata": {},
   "source": [
    "# Student Grading Sysytem:"
   ]
  },
  {
   "cell_type": "markdown",
   "id": "8952e878-df0a-4273-b621-29839bc16752",
   "metadata": {},
   "source": [
    "# ----Input student names and marks:\n",
    "----Calculate Grades \n",
    "----Show highest,lowest and average marks.\n",
    "----Display Clean report at the end."
   ]
  },
  {
   "cell_type": "code",
   "execution_count": 3,
   "id": "5637f743-6ac6-4e7b-a7f2-defe7143d1b2",
   "metadata": {},
   "outputs": [
    {
     "ename": "IndentationError",
     "evalue": "unindent does not match any outer indentation level (<string>, line 6)",
     "output_type": "error",
     "traceback": [
      "\u001b[1;36m  File \u001b[1;32m<string>:6\u001b[1;36m\u001b[0m\n\u001b[1;33m    marks = int(input(\"enter marks of students\"))\u001b[0m\n\u001b[1;37m                                                 ^\u001b[0m\n\u001b[1;31mIndentationError\u001b[0m\u001b[1;31m:\u001b[0m unindent does not match any outer indentation level\n"
     ]
    }
   ],
   "source": [
    "students = {}\n",
    "while True:\n",
    "    name = input(\"enter student name\")\n",
    "    if name == \"stop\".lower():\n",
    "        break\n",
    "     marks = int(input(\"enter marks of students\"))\n"
   ]
  },
  {
   "cell_type": "code",
   "execution_count": null,
   "id": "44c22b45-5389-4034-9ae4-8b11cc6ee06f",
   "metadata": {},
   "outputs": [],
   "source": []
  },
  {
   "cell_type": "code",
   "execution_count": 1,
   "id": "be8d9e94-b1ad-4ba0-a229-b2c48a0daeb8",
   "metadata": {},
   "outputs": [
    {
     "name": "stdin",
     "output_type": "stream",
     "text": [
      "Enter student name or type stop to finish: farman\n",
      "Enter marks of farman:  70\n",
      "Enter student name or type stop to finish: maqsood\n",
      "Enter marks of maqsood:  71\n",
      "Enter student name or type stop to finish: hassan zaib\n",
      "Enter marks of hassan zaib:  80\n",
      "Enter student name or type stop to finish: sheroze\n",
      "Enter marks of sheroze:  88\n",
      "Enter student name or type stop to finish: sohail\n",
      "Enter marks of sohail:  68\n",
      "Enter student name or type stop to finish: faisal\n",
      "Enter marks of faisal:  65\n",
      "Enter student name or type stop to finish: waqar\n",
      "Enter marks of waqar:  50\n",
      "Enter student name or type stop to finish: stop\n"
     ]
    },
    {
     "name": "stdout",
     "output_type": "stream",
     "text": [
      "\n",
      "===== student Report ====\n",
      "farman: Marks = 70, Grade = C\n",
      "maqsood: Marks = 71, Grade = C\n",
      "hassan zaib: Marks = 80, Grade = B\n",
      "sheroze: Marks = 88, Grade = B\n",
      "sohail: Marks = 68, Grade = C\n",
      "faisal: Marks = 65, Grade = C\n",
      "waqar: Marks = 50, Grade = D\n",
      "\n",
      "====Class Statistics====\n",
      "Highest Marks: 88\n",
      "Lowest Marks: 50\n",
      "Class Average: 70.29\n"
     ]
    }
   ],
   "source": [
    "students = {}\n",
    "while True:\n",
    "    name = input(\"Enter student name or type stop to finish:\")\n",
    "    if name == \"stop\".lower():\n",
    "        break\n",
    "    marks = int(input(f\"Enter marks of {name}: \"))\n",
    "    students[name] = marks\n",
    "print(\"\\n===== student Report ====\")\n",
    "for name,marks in students.items():\n",
    "    if marks >= 90:\n",
    "        grade = \"A\"\n",
    "    elif marks >= 75:\n",
    "        grade = \"B\"\n",
    "    elif marks >= 60:\n",
    "        grade = \"C\"\n",
    "    elif marks >=40:\n",
    "        grade = \"D\"\n",
    "    else:\n",
    "        grade = \"F\"\n",
    "    print(f\"{name}: Marks = {marks}, Grade = {grade}\")\n",
    "if students:\n",
    "    all_marks = list(students.values())\n",
    "    highest = max(all_marks)\n",
    "    lowest = min(all_marks)\n",
    "    average = sum(all_marks) / len(all_marks)\n",
    "\n",
    "    print(\"\\n====Class Statistics====\")\n",
    "    print(\"Highest Marks:\", highest)\n",
    "    print(\"Lowest Marks:\", lowest)\n",
    "    print(\"Class Average:\", round(average, 2))\n",
    "else:\n",
    "    print(\"No student Data Entered.\")"
   ]
  },
  {
   "cell_type": "code",
   "execution_count": null,
   "id": "0dadafb4-e9dc-4578-8273-c77776012a74",
   "metadata": {},
   "outputs": [],
   "source": []
  },
  {
   "cell_type": "code",
   "execution_count": null,
   "id": "25e44079-9d79-4a91-8f51-a21a7c687738",
   "metadata": {},
   "outputs": [],
   "source": [
    " "
   ]
  }
 ],
 "metadata": {
  "kernelspec": {
   "display_name": "Python 3 (ipykernel)",
   "language": "python",
   "name": "python3"
  },
  "language_info": {
   "codemirror_mode": {
    "name": "ipython",
    "version": 3
   },
   "file_extension": ".py",
   "mimetype": "text/x-python",
   "name": "python",
   "nbconvert_exporter": "python",
   "pygments_lexer": "ipython3",
   "version": "3.12.7"
  }
 },
 "nbformat": 4,
 "nbformat_minor": 5
}
